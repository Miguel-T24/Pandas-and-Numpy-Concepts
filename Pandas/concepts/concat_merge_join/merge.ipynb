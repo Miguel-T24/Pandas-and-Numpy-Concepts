{
 "cells": [
  {
   "attachments": {},
   "cell_type": "markdown",
   "metadata": {},
   "source": [
    "# Merge"
   ]
  },
  {
   "cell_type": "code",
   "execution_count": 1,
   "metadata": {},
   "outputs": [],
   "source": [
    "import pandas as pd"
   ]
  },
  {
   "attachments": {},
   "cell_type": "markdown",
   "metadata": {},
   "source": [
    "pandas.merge(<br>\n",
    "* right: DataFrame or named Series\n",
    "* how: {'left','right','outer','inner','cross'}\n",
    "    - left: use only keys from left frame, sismilar to a sql left outerjoin; preserve key order.\n",
    "    - right: use inly keys from right frame, simular to a sql right outer join; preserve key order.\n",
    "    - outer: use unon of keys from nboth frames, similar to a sql fuill outer join; sort keys lexicographically\n",
    "    - inner: use intersection of keys from both frames, simular to a sql inner join; preserve the order of the left keys\n",
    "    - cross: crates the cartesian product from both frames, preservees the order of the left keys\n",
    "* on: label or list\n",
    "    - Column or index level names to join on. these must be found in both DataFrames. If on is None and nor merging on indexes then this defaults to the intersection of the columns in both DataFrames\n",
    "* left_on: label or list, or array-like\n",
    "    - Column or index level names to join on in the left DataFrame. Can also be an array or list of arrays of the length of the left DataFrame. These Arrays are treated as fi they are columns.\n",
    "* right_on: label or list, or array-like\n",
    "    - Column or index level names to join on in the right DataFrame. Can also be an array or list of arrays of the elngth of the right DataFrame. These arrays are treated ass if they are columns.\n",
    "* left_index: bool, default False\n",
    "    - Use the index from left DataFrame as the join keys(s). If it is multinIndex, the number of keys in the ither DataFrame (either the index or a number of columns) must match the number of levels.\n",
    "* right_index: boo, default False\n",
    "    - Use the index from the right DataFrame as the join key. Same caveats as left_index.\n",
    "* sort: bool, default False3\n",
    "    - Sort join keys lexicographically in the result DataFrame. if False, the order of the join keys depends on th join type (how keyword)\n",
    "* suffices: list-like default is (\"_x\",\"_y)\n",
    "    - A length-2 sequence where each element is optionally a string indicating the suffix to add to overlapping column names in left and right respectively. PAss a value of None istead od stirng to indicate that the column name from left or right should be left as-is, with no suffic. At least one of the values must not be None.\n",
    "* copy: bool, default True\n",
    "    - If False, avoid copy if possible\n",
    "* indicator: bool, or str, default False\n",
    "    - If True, adds a column to the output DataFrame called \"_merge\" wit information on the source of each row. The column can be given a different name by providing a string argument. The column can be given a different name by providing a string arugment. The column will have a Categorical type with the value of \"left_only\" for observations whose merge key only appears in the right DataFrame, and \"Both\" if the observation's merge key is found in both DataFrames.\n",
    "* Validtae: str, optional\n",
    "    - If specified Checks if emrge os of specified type.\n",
    "    - \"one_to_one\" or \"1:1\" : check if merge keys are unqieu in both left and right datasets\n",
    "    - \"one_to_many\" or \"1:m\" : check if merge keys are unique in both left and right datasets\n",
    "    - \"many_to_one\" or \"m:1\" : check if merge kesy are unique in right dataset.\n",
    "    - \"many_to_many\" or \"m:m\" : allowed, but does not result in checks.\n",
    " )\n",
    "\n",
    " Return: DataFrame: A DataFrame of the two merged object"
   ]
  }
 ],
 "metadata": {
  "kernelspec": {
   "display_name": "pandasnumpy",
   "language": "python",
   "name": "python3"
  },
  "language_info": {
   "codemirror_mode": {
    "name": "ipython",
    "version": 3
   },
   "file_extension": ".py",
   "mimetype": "text/x-python",
   "name": "python",
   "nbconvert_exporter": "python",
   "pygments_lexer": "ipython3",
   "version": "3.8.16"
  },
  "orig_nbformat": 4
 },
 "nbformat": 4,
 "nbformat_minor": 2
}
